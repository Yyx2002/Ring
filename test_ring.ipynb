{
 "cells": [
  {
   "cell_type": "code",
   "execution_count": 1,
   "metadata": {},
   "outputs": [],
   "source": [
    "from ring_net import RingNet\n",
    "import photontorch as pt\n",
    "import torch\n",
    "import matplotlib.pyplot as plt\n",
    "import numpy as np"
   ]
  },
  {
   "cell_type": "code",
   "execution_count": 8,
   "metadata": {},
   "outputs": [],
   "source": [
    "wavelength_list = [1.53e-6, 1.54e-6, 1.55e-6, 1.56e-6]\n",
    "env = pt.Environment(t_start = 0, t_end = 1e-12, dt = 5e-13, wl = wavelength_list, grad=True, freqdomain=True)\n",
    "ringnet = RingNet(M=1, N=4, mode=\"d\", wavelength_list=wavelength_list)"
   ]
  },
  {
   "cell_type": "code",
   "execution_count": 9,
   "metadata": {},
   "outputs": [
    {
     "name": "stdout",
     "output_type": "stream",
     "text": [
      "tensor([[[0.3895],\n",
      "         [0.6953],\n",
      "         [0.5434],\n",
      "         [0.7424]]], names=('s', 'w', 'b')) tensor([2.9289e-16, 1.0224e-15, 1.7483e-15, 5.5050e-01])\n"
     ]
    },
    {
     "name": "stderr",
     "output_type": "stream",
     "text": [
      "/opt/homebrew/anaconda3/envs/photontorch/lib/python3.9/site-packages/torch/_tensor.py:1023: UserWarning: torch.solve is deprecated in favor of torch.linalg.solveand will be removed in a future PyTorch release.\n",
      "torch.linalg.solve has its arguments reversed and does not return the LU factorization.\n",
      "To get the LU factorization see torch.lu, which can be used with torch.lu_solve or torch.lu_unpack.\n",
      "X = torch.solve(B, A).solution\n",
      "should be replaced with\n",
      "X = torch.linalg.solve(A, B) (Triggered internally at  ../aten/src/ATen/native/BatchLinearAlgebra.cpp:760.)\n",
      "  ret = func(*args, **kwargs)\n"
     ]
    }
   ],
   "source": [
    "env = pt.Environment(t_start = 0, t_end = 1e-12, dt = 5e-13, wl = wavelength_list, grad=False, freqdomain=True)\n",
    "with env:\n",
    "    data = torch.rand(1, 4, 1).rename('s', 'w', 'b')\n",
    "    detected = ringnet(source = data)[-1, :, :, 0]\n",
    "    detected_through = detected[:, 0]\n",
    "    print(data, detected_through)"
   ]
  },
  {
   "cell_type": "code",
   "execution_count": null,
   "metadata": {},
   "outputs": [],
   "source": [
    "pt.set_environment(env)\n",
    "input = torch.rand(1, 4, 1).rename('s', 'w', 'b')\n",
    "loss_fn = torch.nn.MSELoss()\n",
    "optim = torch.optim.Adam(ringnet.parameters(), lr=0.001)\n",
    "label = torch.tensor()\n",
    "for epoch in range(100):\n",
    "    detected = ringnet(source = data)[-1, :, :, 0]\n",
    "    detected_through = detected[:, 0]\n",
    "    detected_sum = torch.sum(detected_through)\n",
    "    loss = loss_fn(detected_sum, label)"
   ]
  }
 ],
 "metadata": {
  "kernelspec": {
   "display_name": "photontorch",
   "language": "python",
   "name": "python3"
  },
  "language_info": {
   "codemirror_mode": {
    "name": "ipython",
    "version": 3
   },
   "file_extension": ".py",
   "mimetype": "text/x-python",
   "name": "python",
   "nbconvert_exporter": "python",
   "pygments_lexer": "ipython3",
   "version": "3.9.19"
  }
 },
 "nbformat": 4,
 "nbformat_minor": 2
}
